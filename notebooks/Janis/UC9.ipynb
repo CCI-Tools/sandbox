{
 "cells": [
  {
   "cell_type": "code",
   "execution_count": null,
   "metadata": {
    "collapsed": true
   },
   "outputs": [],
   "source": [
    "\"\"\"\n",
    "A prototype implementation of Use Case 9\n",
    "\"\"\"\n",
    "\n",
    "import xarray as xr\n",
    "import os\n",
    "import numpy as np\n",
    "from ipywidgets import interact\n",
    "# Needed for current resampling implementation\n",
    "from mpl_toolkits import basemap\n",
    "import time\n",
    "# Pretty plots on maps\n",
    "import matplotlib.pyplot as plt\n",
    "import cartopy.crs as ccrs\n",
    "# For linear regression calculation\n",
    "from scipy import stats\n",
    "%matplotlib inline"
   ]
  },
  {
   "cell_type": "code",
   "execution_count": null,
   "metadata": {
    "collapsed": false
   },
   "outputs": [],
   "source": [
    "# This is just a prototype, hence the hard coded paths\n",
    "CLOUD_ECV_PATH = '/home/ccitbx/cci_data/cloud/2008/'\n",
    "AEROSOL_ECV_PATH = '/home/ccitbx/cci_data/aerosol/2008_monthly/'"
   ]
  },
  {
   "cell_type": "code",
   "execution_count": null,
   "metadata": {
    "collapsed": true
   },
   "outputs": [],
   "source": [
    "# Define the functions that the prototype is going to use\n",
    "\n",
    "def read_data(path):\n",
    "    \"\"\"\n",
    "    Read in multiple netCDF files and combine them in an xarray dataset.\n",
    "\n",
    "    :rtype: xr.Dataset\n",
    "    :param path: Path to the folder\n",
    "    :return: The resulting dataset\n",
    "    \"\"\"\n",
    "    path = path + os.sep + '*.nc'\n",
    "    print(path)\n",
    "    dataset = xr.open_mfdataset(path, concat_dim='time')\n",
    "    return dataset\n",
    "\n",
    "class Plotter:\n",
    "    def __init__(self, datasets, extents=None):\n",
    "        \"\"\"\n",
    "        A helper class for interactive plotting.\n",
    "        This is because interact() can't pass keyword arguments\n",
    "        that don't define a widget to the desired function.\n",
    "        \n",
    "        datasets: a dictionary of datsets, keys have to correspond to names \n",
    "        in 'plot_datasets'\n",
    "        extent: a list [lat,lat,lon,lon] that defines the bounding box to show\n",
    "        in the plot. If not provided, a global plot is made\n",
    "        \"\"\"\n",
    "        self.datasets = datasets\n",
    "        self.extents = extents\n",
    "        \n",
    "    def setup_scatter(self, x, y, correlation):\n",
    "        \"\"\"\n",
    "        Set up a scatter plot.\n",
    "        \n",
    "        :param x: xr.DataArray on x axis\n",
    "        :param y: xr.DataArray on y axis\n",
    "        :param correlation: A correlation xr.Dataset based on x and y.\n",
    "        \"\"\"\n",
    "        self.scatter_params = {'x':x, 'y':y, 'correlation':correlation}\n",
    "        \n",
    "    def plot_datasets(self, names, t):\n",
    "        \"\"\"\n",
    "        A function for interactive plotting.\n",
    "        \"\"\"\n",
    "        array_slice = self.datasets[names].isel(time=t)\n",
    "        fig=plt.figure(figsize=(16, 8))\n",
    "        ax = plt.axes(projection=ccrs.PlateCarree())\n",
    "        \n",
    "        if self.extents:\n",
    "            ax.set_extent(self.extents, ccrs.PlateCarree())\n",
    "        else:\n",
    "            ax.set_global()\n",
    "        ax.coastlines()\n",
    "        array_slice.plot.contourf(ax=ax, transform=ccrs.PlateCarree())\n",
    "        \n",
    "    def plot_scatter(self, t):\n",
    "        x = self.scatter_params['x'].isel(time=t).values.flatten()\n",
    "        y = self.scatter_params['y'].isel(time=t).values.flatten()\n",
    "    \n",
    "    \n",
    "        # This is to ignore the NaN values in aerosol\n",
    "        xm = np.ma.masked_array(x,mask=np.isnan(y)).compressed()\n",
    "        ym = np.ma.masked_array(y,mask=np.isnan(y)).compressed()\n",
    "    \n",
    "        slope = self.scatter_params['correlation'].slope.isel(time=t).values\n",
    "        intercept = self.scatter_params['correlation'].intercept.isel(time=t).values\n",
    "        r_value = self.scatter_params['correlation'].r_value.isel(time=t).values\n",
    "        p_value = self.scatter_params['correlation'].p_value.isel(time=t).values\n",
    "        std_err = self.scatter_params['correlation'].std_err.isel(time=t).values\n",
    "        print(\"Slope: \" + str(slope))\n",
    "        print(\"Intercept: \" + str(intercept))\n",
    "        print(\"R squared: \" + str(r_value*r_value))\n",
    "        print(\"P value: \" + str(p_value))\n",
    "        print(\"Standard error of the estimate: \" + str(std_err))\n",
    "        line = slope*x+intercept\n",
    "    \n",
    "        fig=plt.figure(figsize=(10, 5))\n",
    "        ax = fig.add_subplot(111)\n",
    "        plt.plot(x,y,'.',x,line,'r-')\n",
    "        ax.set_xlabel(self.scatter_params['x'].name)\n",
    "        ax.set_ylabel(self.scatter_params['y'].name)\n",
    "        plt.show()\n",
    "    \n",
    "    \n",
    "def resample_slice(slice, grid_lon, grid_lat, order=1):\n",
    "    \"\"\"\n",
    "    Resample a single time slice of a larger xr.DataArray\n",
    "\n",
    "    :param slice: xr.DataArray single slice\n",
    "    :param grid_lon: meshgrid of longitudes for the new grid\n",
    "    :param grid_lat: meshgrid of latitudes for the new grid\n",
    "    :param order: Interpolation method 0 - nearest neighbour, 1 - bilinear (default), 3 - cubic spline\n",
    "    :return: xr.DataArray, resampled slice\n",
    "    \"\"\"\n",
    "    result = basemap.interp(slice.values, slice['lon'].data, slice['lat'].data, grid_lon, grid_lat)\n",
    "    return xr.DataArray(result)\n",
    "\n",
    "\n",
    "def resample_array(array, lon, lat, order=1):\n",
    "    \"\"\"\n",
    "    Resample the given xr.DataArray to a new grid defined by grid_lat and grid_lon\n",
    "\n",
    "    :param array: xr.DataArray with lat,lon and time coordinates\n",
    "    :param lat: 'lat' xr.DataArray attribute for the new grid\n",
    "    :param lon: 'lon' xr.DataArray attribute for the new grid\n",
    "    :param order: 0 for nearest-neighbor interpolation, 1 for bilinear interpolation,\n",
    "    3 for cubic spline (default 1). order=3 requires scipy.ndimage.\n",
    "    :return: None, changes 'array' in place.\n",
    "    \"\"\"\n",
    "    # Don't do anything if this DataArray has different dims than expected\n",
    "    if 'time' not in array.dims or 'lat' not in array.dims or 'lon' not in array.dims:\n",
    "        return array\n",
    "\n",
    "    #if array.dims != (('time','lat','lon')):\n",
    "    #    return array\n",
    "\n",
    "    print(array.name)\n",
    "    print(array.dims)\n",
    "\n",
    "    grid_lon, grid_lat = np.meshgrid(lon.data, lat.data)\n",
    "    kwargs = {'grid_lon':grid_lon, 'grid_lat':grid_lat}\n",
    "    temp_array = array.groupby('time').apply(resample_slice, **kwargs)\n",
    "    chunks = list(temp_array.shape[1:])\n",
    "    chunks.insert(0,1)\n",
    "    return xr.DataArray(temp_array.values,\n",
    "                        name = array.name,\n",
    "                        dims = array.dims,\n",
    "                        coords = {'time':array.time, 'lat':lat, 'lon':lon},\n",
    "                        attrs = array.attrs).chunk(chunks=chunks)\n",
    "\n",
    "def correlation_analysis(array_x, array_y):\n",
    "    \"\"\"\n",
    "    Perform correlation analysis on the provided xr.dataArray objects.\n",
    "    \n",
    "    :param array_x: xr.DataArray whose values are on the horizontal axis of the scatter plot.\n",
    "    :param array_y: xr.DataArray whose values are on the vertical axis of the scatter plot. E.g.\n",
    "    the dependent variable.\n",
    "    :return: xr.Dataset object that contains the time-series of correlation parameters, as well as the \n",
    "    spatial correlation data array.\n",
    "    \"\"\"\n",
    "\n",
    "    ret_dataset = xr.Dataset()\n",
    "    slope_list = list()\n",
    "    intercept_list = list()\n",
    "    r_value_list = list()\n",
    "    p_value_list = list()\n",
    "    std_err_list = list()\n",
    "    rr_list = list()\n",
    "    \n",
    "    # Looping using the time dimension. Maybe there's a better way\n",
    "    for t in range(len(array_x.time.values)):\n",
    "        x = array_x.isel(time=t).values.flatten()\n",
    "        y = array_y.isel(time=t).values.flatten()\n",
    "    \n",
    "        # This is to ignore the NaN values in array_y\n",
    "        xm = np.ma.masked_array(x,mask=np.isnan(y)).compressed()\n",
    "        ym = np.ma.masked_array(y,mask=np.isnan(y)).compressed()\n",
    "\n",
    "        # Do a linear regression\n",
    "        slope, intercept, r_value, p_value, std_err = stats.linregress(xm,ym)\n",
    "        \n",
    "        coeffs = [slope, intercept]\n",
    "\n",
    "        fitted_y = np.polyval(coeffs, x)\n",
    "        diff_y = y - fitted_y\n",
    "\n",
    "        diff_y = diff_y.reshape(len(array_x.lat),len(array_x.lon),1)\n",
    "        time_dim = list([array_x.time[t]])\n",
    "        \n",
    "        array_slice = xr.DataArray((abs(diff_y)),\n",
    "                         name = 'spatial_correlation',\n",
    "                         dims = ['lat','lon','time'],\n",
    "                         coords = {'lat':array_x.lat, 'lon':array_x.lon, 'time':time_dim})\n",
    "        \n",
    "        # Construct the 1D linear regression variables\n",
    "        slope_list.append(slope)\n",
    "        intercept_list.append(intercept)\n",
    "        r_value_list.append(r_value)\n",
    "        p_value_list.append(p_value)\n",
    "        std_err_list.append(std_err)\n",
    "        rr_list.append(r_value*r_value)\n",
    "        \n",
    "        # Construct the 3D DataArray variable\n",
    "        if t == 0:\n",
    "            ret_dataset['spatial_correlation'] = array_slice\n",
    "        else:\n",
    "            temp_ds = xr.Dataset()\n",
    "            temp_ds['spatial_correlation'] = array_slice\n",
    "            ret_dataset = xr.concat([ret_dataset, temp_ds], 'time')\n",
    "    \n",
    "    # Add the 1D variables to the return dataset\n",
    "    slope = xr.DataArray(slope_list,\n",
    "                        name = 'slope',\n",
    "                        dims = ['time'],\n",
    "                        coords = {'time':array_x.time})\n",
    "    intercept = xr.DataArray(intercept_list,\n",
    "                        name = 'intercept',\n",
    "                        dims = ['time'],\n",
    "                        coords = {'time':array_x.time})\n",
    "    r_value = xr.DataArray(r_value_list,\n",
    "                        name = 'r_value',\n",
    "                        dims = ['time'],\n",
    "                        coords = {'time':array_x.time})\n",
    "    p_value = xr.DataArray(p_value_list,\n",
    "                        name = 'p_value',\n",
    "                        dims = ['time'],\n",
    "                        coords = {'time':array_x.time})\n",
    "    std_err = xr.DataArray(std_err_list,\n",
    "                        name = 'std_err',\n",
    "                        dims = ['time'],\n",
    "                        coords = {'time':array_x.time})\n",
    "    r_squared = xr.DataArray(rr_list,\n",
    "                        name = 'r_squared',\n",
    "                        dims = ['time'],\n",
    "                        coords = {'time':array_x.time})\n",
    "    \n",
    "    ret_dataset['slope'] = slope\n",
    "    ret_dataset['intercept'] = intercept\n",
    "    ret_dataset['r_value'] = r_value\n",
    "    ret_dataset['p_value'] = p_value\n",
    "    ret_dataset['std_err'] = std_err\n",
    "    ret_dataset['r_squared'] = r_squared\n",
    "    \n",
    "    return ret_dataset "
   ]
  },
  {
   "cell_type": "code",
   "execution_count": null,
   "metadata": {
    "collapsed": false
   },
   "outputs": [],
   "source": [
    "# Read in data\n",
    "ds_clouds = read_data(CLOUD_ECV_PATH)\n",
    "ds_aerosol = read_data(AEROSOL_ECV_PATH)"
   ]
  },
  {
   "cell_type": "code",
   "execution_count": null,
   "metadata": {
    "collapsed": true
   },
   "outputs": [],
   "source": [
    "# Rename the aerosol dataset's coordinates to correspond with clouds\n",
    "ds_aerosol.rename({'latitude':'lat', 'longitude':'lon'},inplace=True)\n",
    "\n",
    "# Select the variables of interest\n",
    "cc_total = ds_clouds.cc_total\n",
    "aerosol = ds_aerosol.AOD550_mean"
   ]
  },
  {
   "cell_type": "code",
   "execution_count": null,
   "metadata": {
    "collapsed": false
   },
   "outputs": [],
   "source": [
    "print(aerosol)"
   ]
  },
  {
   "cell_type": "code",
   "execution_count": null,
   "metadata": {
    "collapsed": false
   },
   "outputs": [],
   "source": [
    "# Regrid the cc_total to the grid used for aerosol\n",
    "cc_total_resampled = resample_array(cc_total, aerosol['lon'], aerosol['lat'], order=1)"
   ]
  },
  {
   "cell_type": "code",
   "execution_count": null,
   "metadata": {
    "collapsed": false
   },
   "outputs": [],
   "source": [
    "# Define plotting parameters\n",
    "names = ['clouds', 'aerosol']\n",
    "ds = {'clouds':cc_total_resampled, 'aerosol':aerosol}"
   ]
  },
  {
   "cell_type": "code",
   "execution_count": null,
   "metadata": {
    "collapsed": false,
    "scrolled": false
   },
   "outputs": [],
   "source": [
    "disp = Plotter(ds)\n",
    "interact(disp.plot_datasets, names = names, t=(0,11,1))"
   ]
  },
  {
   "cell_type": "code",
   "execution_count": null,
   "metadata": {
    "collapsed": false
   },
   "outputs": [],
   "source": [
    "# Select a spatial subset (Africa)\n",
    "lat_slice = slice(-40., 40.)\n",
    "lon_slice = slice(-20., 60.)\n",
    "cc_total_sub = cc_total_resampled.sel(lat=lat_slice,lon=lon_slice)\n",
    "aerosol_sub = aerosol.sel(lat=lat_slice, lon=lon_slice)\n",
    "\n",
    "# Select a time subset, feb - sept. Selecting by indices now, as the\n",
    "# time definition is not uniform for both datasets\n",
    "time_slice = slice(1,10)\n",
    "cc_total_sub = cc_total_sub.isel(time=time_slice)\n",
    "aerosol_sub = aerosol_sub.isel(time=time_slice)\n"
   ]
  },
  {
   "cell_type": "code",
   "execution_count": null,
   "metadata": {
    "collapsed": false
   },
   "outputs": [],
   "source": [
    "print(cc_total_sub)\n",
    "print(aerosol_sub)"
   ]
  },
  {
   "cell_type": "code",
   "execution_count": null,
   "metadata": {
    "collapsed": false
   },
   "outputs": [],
   "source": [
    "# Plot the subset\n",
    "ds = {'clouds':cc_total_sub, 'aerosol':aerosol_sub}\n",
    "\n",
    "disp = Plotter(ds)\n",
    "interact(disp.plot_datasets, names = names, t=(0,8))"
   ]
  },
  {
   "cell_type": "code",
   "execution_count": null,
   "metadata": {
    "collapsed": false,
    "scrolled": true
   },
   "outputs": [],
   "source": [
    "correlation_res = correlation_analysis(cc_total_sub, aerosol_sub)"
   ]
  },
  {
   "cell_type": "code",
   "execution_count": null,
   "metadata": {
    "collapsed": false
   },
   "outputs": [],
   "source": [
    "print(correlation_res)"
   ]
  },
  {
   "cell_type": "code",
   "execution_count": null,
   "metadata": {
    "collapsed": true
   },
   "outputs": [],
   "source": [
    "# Plot the correlation\n",
    "ds = {'clouds':cc_total_sub, 'aerosol':aerosol_sub, 'correlation':correlation_res.spatial_correlation}\n",
    "names = ['clouds','aerosol','correlation']\n",
    "\n",
    "disp = Plotter(ds)\n",
    "disp.setup_scatter(cc_total_sub, aerosol_sub, correlation_res)"
   ]
  },
  {
   "cell_type": "code",
   "execution_count": null,
   "metadata": {
    "collapsed": false
   },
   "outputs": [],
   "source": [
    "interact(disp.plot_scatter, t=(0,8))"
   ]
  },
  {
   "cell_type": "code",
   "execution_count": null,
   "metadata": {
    "collapsed": false
   },
   "outputs": [],
   "source": [
    "interact(disp.plot_datasets, names = names, t=(0,8))"
   ]
  },
  {
   "cell_type": "code",
   "execution_count": null,
   "metadata": {
    "collapsed": true
   },
   "outputs": [],
   "source": []
  }
 ],
 "metadata": {
  "kernelspec": {
   "display_name": "Python 3",
   "language": "python",
   "name": "python3"
  },
  "language_info": {
   "codemirror_mode": {
    "name": "ipython",
    "version": 3
   },
   "file_extension": ".py",
   "mimetype": "text/x-python",
   "name": "python",
   "nbconvert_exporter": "python",
   "pygments_lexer": "ipython3",
   "version": "3.5.0rc4"
  }
 },
 "nbformat": 4,
 "nbformat_minor": 0
}
