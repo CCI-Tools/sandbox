{
 "cells": [
  {
   "cell_type": "code",
   "execution_count": 1,
   "metadata": {
    "collapsed": true
   },
   "outputs": [],
   "source": [
    "import ect"
   ]
  },
  {
   "cell_type": "code",
   "execution_count": 2,
   "metadata": {
    "collapsed": true
   },
   "outputs": [],
   "source": [
    "# Couldn't figure out quickly how to properly use ect io\n",
    "# with my own folder, hence:\n",
    "import xarray as xr\n",
    "import os\n",
    "\n",
    "def read_data(path):\n",
    "    \"\"\"\n",
    "    Read in multiple netCDF files and combine them in an xarray dataset.\n",
    "\n",
    "    :rtype: xr.Dataset\n",
    "    :param path: Path to the folder\n",
    "    :return: The resulting dataset\n",
    "    \"\"\"\n",
    "    path = path + os.sep + '*.nc'\n",
    "    print(path)\n",
    "    dataset = xr.open_mfdataset(path, concat_dim='time')\n",
    "    return dataset"
   ]
  },
  {
   "cell_type": "code",
   "execution_count": 3,
   "metadata": {
    "collapsed": false
   },
   "outputs": [
    {
     "name": "stdout",
     "output_type": "stream",
     "text": [
      "/home/ccitbx/cci_data/cloud/2008/*.nc\n"
     ]
    }
   ],
   "source": [
    "xrdataset_clouds = read_data('/home/ccitbx/cci_data/cloud/2008')"
   ]
  },
  {
   "cell_type": "code",
   "execution_count": 4,
   "metadata": {
    "collapsed": false
   },
   "outputs": [
    {
     "name": "stdout",
     "output_type": "stream",
     "text": [
      "/home/ccitbx/cci_data/aerosol/2008_monthly/*.nc\n"
     ]
    }
   ],
   "source": [
    "xrdataset_aerosol = read_data('/home/ccitbx/cci_data/aerosol/2008_monthly')"
   ]
  },
  {
   "cell_type": "code",
   "execution_count": 5,
   "metadata": {
    "collapsed": false
   },
   "outputs": [],
   "source": [
    "# Convert the xrdatasets to ECT CDM objects\n",
    "ect_clouds = ect.core.cdm_xarray.XArrayDatasetAdapter(xrdataset_clouds)\n",
    "ect_aerosol = ect.core.cdm_xarray.XArrayDatasetAdapter(xrdataset_aerosol)"
   ]
  },
  {
   "cell_type": "code",
   "execution_count": 9,
   "metadata": {
    "collapsed": false
   },
   "outputs": [],
   "source": [
    "# Filter the datasets to select the desired ECV variables\n",
    "clouds_filter = tuple(['cc_total'])\n",
    "aerosol_filter = tuple(['AOD550_mean'])\n",
    "\n",
    "ect_clouds = ect_clouds.filter_dataset(clouds_filter)\n",
    "ect_aerosol = ect_aerosol.filter_dataset(aerosol_filter)"
   ]
  },
  {
   "cell_type": "code",
   "execution_count": null,
   "metadata": {
    "collapsed": true
   },
   "outputs": [],
   "source": []
  }
 ],
 "metadata": {
  "kernelspec": {
   "display_name": "Python 3",
   "language": "python",
   "name": "python3"
  },
  "language_info": {
   "codemirror_mode": {
    "name": "ipython",
    "version": 3
   },
   "file_extension": ".py",
   "mimetype": "text/x-python",
   "name": "python",
   "nbconvert_exporter": "python",
   "pygments_lexer": "ipython3",
   "version": "3.5.0rc4"
  }
 },
 "nbformat": 4,
 "nbformat_minor": 0
}
