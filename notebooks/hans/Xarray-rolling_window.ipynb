{
 "cells": [
  {
   "cell_type": "code",
   "execution_count": 2,
   "metadata": {
    "collapsed": true
   },
   "outputs": [],
   "source": [
    "import numpy as np\n",
    "import pandas as pd\n",
    "import xarray as xr"
   ]
  },
  {
   "cell_type": "code",
   "execution_count": 3,
   "metadata": {
    "collapsed": false
   },
   "outputs": [],
   "source": [
    "arr = xr.DataArray(np.arange(0, 7.5, 0.5).reshape(3, 5),dims=('x', 'y'))"
   ]
  },
  {
   "cell_type": "code",
   "execution_count": 4,
   "metadata": {
    "collapsed": false
   },
   "outputs": [
    {
     "data": {
      "text/plain": [
       "<xarray.DataArray (x: 3, y: 5)>\n",
       "array([[ 0. ,  0.5,  1. ,  1.5,  2. ],\n",
       "       [ 2.5,  3. ,  3.5,  4. ,  4.5],\n",
       "       [ 5. ,  5.5,  6. ,  6.5,  7. ]])\n",
       "Coordinates:\n",
       "  * x        (x) int64 0 1 2\n",
       "  * y        (y) int64 0 1 2 3 4"
      ]
     },
     "execution_count": 4,
     "metadata": {},
     "output_type": "execute_result"
    }
   ],
   "source": [
    "arr"
   ]
  },
  {
   "cell_type": "code",
   "execution_count": 22,
   "metadata": {
    "collapsed": false
   },
   "outputs": [],
   "source": [
    "r = arr.rolling(y=3)"
   ]
  },
  {
   "cell_type": "code",
   "execution_count": 23,
   "metadata": {
    "collapsed": false
   },
   "outputs": [
    {
     "data": {
      "text/plain": [
       "DataArrayRolling [window->3,center->False,dim->y]"
      ]
     },
     "execution_count": 23,
     "metadata": {},
     "output_type": "execute_result"
    }
   ],
   "source": [
    "r"
   ]
  },
  {
   "cell_type": "code",
   "execution_count": 28,
   "metadata": {
    "collapsed": false
   },
   "outputs": [
    {
     "name": "stdout",
     "output_type": "stream",
     "text": [
      "======label\n",
      "<xarray.DataArray 'y' ()>\n",
      "array(0, dtype=int64)\n",
      "Coordinates:\n",
      "    y        int64 0\n",
      "======arr_window\n",
      "<xarray.DataArray (x: 3, y: 1)>\n",
      "array([[ nan],\n",
      "       [ nan],\n",
      "       [ nan]])\n",
      "Coordinates:\n",
      "  * x        (x) int64 0 1 2\n",
      "  * y        (y) int64 0\n",
      "======label\n",
      "<xarray.DataArray 'y' ()>\n",
      "array(1, dtype=int64)\n",
      "Coordinates:\n",
      "    y        int64 1\n",
      "======arr_window\n",
      "<xarray.DataArray (x: 3, y: 2)>\n",
      "array([[ nan,  nan],\n",
      "       [ nan,  nan],\n",
      "       [ nan,  nan]])\n",
      "Coordinates:\n",
      "  * x        (x) int64 0 1 2\n",
      "  * y        (y) int64 0 1\n",
      "======label\n",
      "<xarray.DataArray 'y' ()>\n",
      "array(2, dtype=int64)\n",
      "Coordinates:\n",
      "    y        int64 2\n",
      "======arr_window\n",
      "<xarray.DataArray (x: 3, y: 3)>\n",
      "array([[ 0. ,  0.5,  1. ],\n",
      "       [ 2.5,  3. ,  3.5],\n",
      "       [ 5. ,  5.5,  6. ]])\n",
      "Coordinates:\n",
      "  * x        (x) int64 0 1 2\n",
      "  * y        (y) int64 0 1 2\n",
      "======label\n",
      "<xarray.DataArray 'y' ()>\n",
      "array(3, dtype=int64)\n",
      "Coordinates:\n",
      "    y        int64 3\n",
      "======arr_window\n",
      "<xarray.DataArray (x: 3, y: 3)>\n",
      "array([[ 0.5,  1. ,  1.5],\n",
      "       [ 3. ,  3.5,  4. ],\n",
      "       [ 5.5,  6. ,  6.5]])\n",
      "Coordinates:\n",
      "  * x        (x) int64 0 1 2\n",
      "  * y        (y) int64 1 2 3\n",
      "======label\n",
      "<xarray.DataArray 'y' ()>\n",
      "array(4, dtype=int64)\n",
      "Coordinates:\n",
      "    y        int64 4\n",
      "======arr_window\n",
      "<xarray.DataArray (x: 3, y: 3)>\n",
      "array([[ 1. ,  1.5,  2. ],\n",
      "       [ 3.5,  4. ,  4.5],\n",
      "       [ 6. ,  6.5,  7. ]])\n",
      "Coordinates:\n",
      "  * x        (x) int64 0 1 2\n",
      "  * y        (y) int64 2 3 4\n"
     ]
    }
   ],
   "source": [
    "for label, arr_window in r:\n",
    "    print(\"======label\")\n",
    "    print(label)\n",
    "    print(\"======arr_window\")\n",
    "    print(arr_window)"
   ]
  },
  {
   "cell_type": "code",
   "execution_count": null,
   "metadata": {
    "collapsed": true
   },
   "outputs": [],
   "source": []
  }
 ],
 "metadata": {
  "kernelspec": {
   "display_name": "Python 3",
   "language": "python",
   "name": "python3"
  },
  "language_info": {
   "codemirror_mode": {
    "name": "ipython",
    "version": 3
   },
   "file_extension": ".py",
   "mimetype": "text/x-python",
   "name": "python",
   "nbconvert_exporter": "python",
   "pygments_lexer": "ipython3",
   "version": "3.5.1"
  }
 },
 "nbformat": 4,
 "nbformat_minor": 0
}
