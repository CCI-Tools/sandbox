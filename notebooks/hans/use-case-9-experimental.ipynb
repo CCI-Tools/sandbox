{
 "cells": [
  {
   "cell_type": "code",
   "execution_count": 1,
   "metadata": {
    "collapsed": false
   },
   "outputs": [
    {
     "name": "stdout",
     "output_type": "stream",
     "text": [
      "Populating the interactive namespace from numpy and matplotlib\n"
     ]
    }
   ],
   "source": [
    "%matplotlib inline\n",
    "%pylab inline\n",
    "import numpy as np\n",
    "import pandas as pd\n",
    "import xarray as xr\n",
    "import seaborn as sns\n",
    "import os\n",
    "import matplotlib.pyplot as plt\n",
    "import timeit\n",
    "\n",
    "pylab.rcParams['figure.figsize'] = (20, 12)"
   ]
  },
  {
   "cell_type": "code",
   "execution_count": 2,
   "metadata": {
    "collapsed": true
   },
   "outputs": [],
   "source": [
    "var1 = xr.DataArray(np.arange(777600).reshape(12,360,180), name='var1')\n",
    "var2 = xr.DataArray(np.random.randn(777600).reshape(12,360,180), name='var2')"
   ]
  },
  {
   "cell_type": "code",
   "execution_count": 3,
   "metadata": {
    "collapsed": true
   },
   "outputs": [],
   "source": [
    "def single_pixel_deviation(x):\n",
    "    return (x - x.mean()) / x.std()\n",
    "\n",
    "def single_correlation(x): \n",
    "    x_cor = x.groupby('dim_1').apply(single_pixel_deviation)\n",
    "    return x_cor"
   ]
  },
  {
   "cell_type": "code",
   "execution_count": 4,
   "metadata": {
    "collapsed": true
   },
   "outputs": [],
   "source": [
    "def mycorr(x,y,dim=None):\n",
    "    return (((x-x.mean(dim=dim))*(y-y.mean(dim=dim))).sum(dim=dim)/x[dim].size)/(x.std(dim=dim)*y.std(dim=dim))"
   ]
  },
  {
   "cell_type": "code",
   "execution_count": 31,
   "metadata": {
    "collapsed": false
   },
   "outputs": [
    {
     "name": "stdout",
     "output_type": "stream",
     "text": [
      "1 loop, best of 3: 5min 41s per loop\n"
     ]
    }
   ],
   "source": [
    "%%timeit\n",
    "var1_cor = var1.groupby('dim_2').apply(single_correlation)\n",
    "var2_cor = var2.groupby('dim_2').apply(single_correlation)"
   ]
  },
  {
   "cell_type": "code",
   "execution_count": 15,
   "metadata": {
    "collapsed": false,
    "scrolled": true
   },
   "outputs": [],
   "source": [
    "#%%timeit\n",
    "cov_test = mycorr(var2,var2,dim=\"dim_0\")"
   ]
  },
  {
   "cell_type": "code",
   "execution_count": 17,
   "metadata": {
    "collapsed": false
   },
   "outputs": [
    {
     "data": {
      "text/plain": [
       "<xarray.DataArray 'var2' ()>\n",
       "array(0.9999999999999998)"
      ]
     },
     "execution_count": 17,
     "metadata": {},
     "output_type": "execute_result"
    }
   ],
   "source": [
    "cov_test.min()"
   ]
  },
  {
   "cell_type": "code",
   "execution_count": 18,
   "metadata": {
    "collapsed": false
   },
   "outputs": [
    {
     "data": {
      "text/plain": [
       "<xarray.DataArray 'var2' (dim_1: 360, dim_2: 180)>\n",
       "array([[ 1.,  1.,  1., ...,  1.,  1.,  1.],\n",
       "       [ 1.,  1.,  1., ...,  1.,  1.,  1.],\n",
       "       [ 1.,  1.,  1., ...,  1.,  1.,  1.],\n",
       "       ..., \n",
       "       [ 1.,  1.,  1., ...,  1.,  1.,  1.],\n",
       "       [ 1.,  1.,  1., ...,  1.,  1.,  1.],\n",
       "       [ 1.,  1.,  1., ...,  1.,  1.,  1.]])\n",
       "Coordinates:\n",
       "  * dim_1    (dim_1) int64 0 1 2 3 4 5 6 7 8 9 10 11 12 13 14 15 16 17 18 19 ...\n",
       "  * dim_2    (dim_2) int64 0 1 2 3 4 5 6 7 8 9 10 11 12 13 14 15 16 17 18 19 ..."
      ]
     },
     "execution_count": 18,
     "metadata": {},
     "output_type": "execute_result"
    }
   ],
   "source": [
    "cov_test"
   ]
  },
  {
   "cell_type": "code",
   "execution_count": 36,
   "metadata": {
    "collapsed": false
   },
   "outputs": [
    {
     "data": {
      "text/plain": [
       "<xarray.core.groupby.DataArrayGroupBy at 0x1f5f3eaa668>"
      ]
     },
     "execution_count": 36,
     "metadata": {},
     "output_type": "execute_result"
    }
   ],
   "source": [
    "var1.groupby('dim_2')"
   ]
  },
  {
   "cell_type": "code",
   "execution_count": 33,
   "metadata": {
    "collapsed": false
   },
   "outputs": [
    {
     "data": {
      "text/plain": [
       "<xarray.DataArray 'var2' (dim_0: 12, dim_1: 5, dim_2: 2)>\n",
       "array([[[ 0.18710249, -0.4510858 ],\n",
       "        [-1.56929836,  1.17057218],\n",
       "        [-0.37523565, -0.14987089],\n",
       "        [ 0.08307831,  1.19393739],\n",
       "        [ 1.6640759 , -1.19414631]],\n",
       "\n",
       "       [[-1.5680252 ,  0.60751634],\n",
       "        [ 1.36221602,  0.79183935],\n",
       "        [ 0.50493692,  0.89706249],\n",
       "        [ 1.46465714,  0.82596639],\n",
       "        [ 0.23891788, -1.00256663]],\n",
       "\n",
       "       [[ 0.30273316,  0.73489702],\n",
       "        [-0.52721015, -1.35096231],\n",
       "        [-0.29362169,  1.09570489],\n",
       "        [-0.94746568,  0.53487384],\n",
       "        [-0.8932819 , -0.4859217 ]],\n",
       "\n",
       "       [[-1.33299442,  0.68930313],\n",
       "        [ 0.95383022, -0.20947329],\n",
       "        [-0.46765436,  1.03223905],\n",
       "        [ 0.90740149, -0.37320876],\n",
       "        [-1.20069748, -0.49889519]],\n",
       "\n",
       "       [[-1.96669622, -0.07890089],\n",
       "        [-0.0596491 , -1.1946685 ],\n",
       "        [-0.62856913,  0.1186544 ],\n",
       "        [ 1.22790715, -0.5273026 ],\n",
       "        [-0.02830446,  1.00831689]],\n",
       "\n",
       "       [[ 0.10867812, -1.3062592 ],\n",
       "        [ 0.65040773,  0.65190501],\n",
       "        [ 0.37718872, -0.13156251],\n",
       "        [-0.83084255, -1.52680948],\n",
       "        [ 1.42488702, -1.35324581]],\n",
       "\n",
       "       [[ 0.4690665 ,  2.303552  ],\n",
       "        [ 0.14358582,  1.62732487],\n",
       "        [ 0.05792761, -1.03666755],\n",
       "        [ 0.77666824, -0.96339638],\n",
       "        [ 1.00315805,  1.56614762]],\n",
       "\n",
       "       [[ 0.88410417, -1.60267624],\n",
       "        [ 0.62520406, -0.84468287],\n",
       "        [-2.42663453, -0.13139241],\n",
       "        [ 0.07740241,  0.85891184],\n",
       "        [ 0.53353555,  0.18889505]],\n",
       "\n",
       "       [[ 0.58224752,  0.4426039 ],\n",
       "        [-1.12244262, -1.13745509],\n",
       "        [ 0.51867566, -2.20516368],\n",
       "        [ 0.35272099, -1.65068832],\n",
       "        [-1.71926581,  1.27860907]],\n",
       "\n",
       "       [[ 1.39123195, -0.30607486],\n",
       "        [-1.84225633,  0.94182099],\n",
       "        [ 0.42040044, -1.20078669],\n",
       "        [-2.17904593, -0.39586585],\n",
       "        [-0.74435111, -0.15761743]],\n",
       "\n",
       "       [[ 0.60849668, -0.48663983],\n",
       "        [ 0.54772842, -0.78857347],\n",
       "        [ 2.09177508,  0.77323564],\n",
       "        [-0.54413357,  1.37437698],\n",
       "        [-0.31722618, -0.64333597]],\n",
       "\n",
       "       [[ 0.33405526, -0.54623557],\n",
       "        [ 0.83788427,  0.34235314],\n",
       "        [ 0.22081092,  0.93854724],\n",
       "        [-0.388348  ,  0.64920496],\n",
       "        [ 0.03855255,  1.2937604 ]]])\n",
       "Coordinates:\n",
       "  * dim_0    (dim_0) int64 0 1 2 3 4 5 6 7 8 9 10 11\n",
       "  * dim_1    (dim_1) int64 0 1 2 3 4\n",
       "  * dim_2    (dim_2) int64 0 1"
      ]
     },
     "execution_count": 33,
     "metadata": {},
     "output_type": "execute_result"
    }
   ],
   "source": [
    "var2_cor"
   ]
  },
  {
   "cell_type": "code",
   "execution_count": 15,
   "metadata": {
    "collapsed": true
   },
   "outputs": [],
   "source": [
    "time, lat, lon = var1.shape\n",
    "correlation = var1_cor * var2_cor / time"
   ]
  },
  {
   "cell_type": "code",
   "execution_count": 18,
   "metadata": {
    "collapsed": false
   },
   "outputs": [],
   "source": [
    "cor = correlation.groupby('dim_0').sum()"
   ]
  },
  {
   "cell_type": "code",
   "execution_count": 19,
   "metadata": {
    "collapsed": false
   },
   "outputs": [
    {
     "data": {
      "text/plain": [
       "[<matplotlib.lines.Line2D at 0x1f5f3ee1630>]"
      ]
     },
     "execution_count": 19,
     "metadata": {},
     "output_type": "execute_result"
    },
    {
     "data": {
      "image/png": "[encoded data removed]",
      "text/plain": [
       "<matplotlib.figure.Figure at 0x1f5f3ee14a8>"
      ]
     },
     "metadata": {},
     "output_type": "display_data"
    }
   ],
   "source": [
    "cor.plot()"
   ]
  },
  {
   "cell_type": "code",
   "execution_count": null,
   "metadata": {
    "collapsed": true
   },
   "outputs": [],
   "source": []
  }
 ],
 "metadata": {
  "kernelspec": {
   "display_name": "Python 3",
   "language": "python",
   "name": "python3"
  },
  "language_info": {
   "codemirror_mode": {
    "name": "ipython",
    "version": 3
   },
   "file_extension": ".py",
   "mimetype": "text/x-python",
   "name": "python",
   "nbconvert_exporter": "python",
   "pygments_lexer": "ipython3",
   "version": "3.5.1"
  }
 },
 "nbformat": 4,
 "nbformat_minor": 0
}
