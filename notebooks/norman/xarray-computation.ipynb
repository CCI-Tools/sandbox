{
 "cells": [
  {
   "cell_type": "markdown",
   "metadata": {},
   "source": [
    "# Computation\n",
    "The labels associated with ``DataArray`` and ``Dataset`` objects enables some powerful shortcuts for computation, notably including aggregation and broadcasting by dimension names."
   ]
  },
  {
   "cell_type": "markdown",
   "metadata": {},
   "source": [
    "## Basic array math\n",
    "\n",
    "Arithmetic operations with a single DataArray automatically vectorize (like numpy) over all array values:"
   ]
  },
  {
   "cell_type": "code",
   "execution_count": 3,
   "metadata": {
    "collapsed": true
   },
   "outputs": [],
   "source": [
    "%matplotlib inline\n",
    "import numpy as np\n",
    "import xarray as xr"
   ]
  },
  {
   "cell_type": "code",
   "execution_count": 4,
   "metadata": {
    "collapsed": false
   },
   "outputs": [],
   "source": [
    "arr = xr.DataArray(np.random.randn(2, 3), [('x', ['a', 'b']), ('y', [10, 20, 30])])"
   ]
  },
  {
   "cell_type": "code",
   "execution_count": 5,
   "metadata": {
    "collapsed": false
   },
   "outputs": [
    {
     "data": {
      "text/plain": [
       "<xarray.DataArray (x: 2, y: 3)>\n",
       "array([[-1.4732171 , -2.50018762, -2.3582823 ],\n",
       "       [-3.65101496, -4.03530835, -3.6216578 ]])\n",
       "Coordinates:\n",
       "  * x        (x) <U1 'a' 'b'\n",
       "  * y        (y) int32 10 20 30"
      ]
     },
     "execution_count": 5,
     "metadata": {},
     "output_type": "execute_result"
    }
   ],
   "source": [
    "arr - 3"
   ]
  },
  {
   "cell_type": "code",
   "execution_count": 6,
   "metadata": {
    "collapsed": false
   },
   "outputs": [
    {
     "data": {
      "text/plain": [
       "<xarray.DataArray (x: 2, y: 3)>\n",
       "array([[ 1.5267829 ,  0.49981238,  0.6417177 ],\n",
       "       [ 0.65101496,  1.03530835,  0.6216578 ]])\n",
       "Coordinates:\n",
       "  * x        (x) <U1 'a' 'b'\n",
       "  * y        (y) int32 10 20 30"
      ]
     },
     "execution_count": 6,
     "metadata": {},
     "output_type": "execute_result"
    }
   ],
   "source": [
    "abs(arr)"
   ]
  },
  {
   "cell_type": "markdown",
   "metadata": {},
   "source": [
    "You can also use any of numpy’s or scipy’s many ufunc functions directly on a DataArray:"
   ]
  },
  {
   "cell_type": "code",
   "execution_count": 8,
   "metadata": {
    "collapsed": false
   },
   "outputs": [
    {
     "data": {
      "text/plain": [
       "<xarray.DataArray (x: 2, y: 3)>\n",
       "array([[ 0.99903157,  0.47926088,  0.59857232],\n",
       "       [-0.60599409, -0.86001974, -0.58238361]])\n",
       "Coordinates:\n",
       "  * x        (x) <U1 'a' 'b'\n",
       "  * y        (y) int32 10 20 30"
      ]
     },
     "execution_count": 8,
     "metadata": {},
     "output_type": "execute_result"
    }
   ],
   "source": [
    "np.sin(arr)"
   ]
  },
  {
   "cell_type": "markdown",
   "metadata": {},
   "source": [
    "Data arrays also implement many ``numpy.ndarray`` methods:"
   ]
  },
  {
   "cell_type": "code",
   "execution_count": 9,
   "metadata": {
    "collapsed": false
   },
   "outputs": [
    {
     "data": {
      "text/plain": [
       "<xarray.DataArray (x: 2, y: 3)>\n",
       "array([[ 1.53,  0.5 ,  0.64],\n",
       "       [-0.65, -1.04, -0.62]])\n",
       "Coordinates:\n",
       "  * x        (x) <U1 'a' 'b'\n",
       "  * y        (y) int32 10 20 30"
      ]
     },
     "execution_count": 9,
     "metadata": {},
     "output_type": "execute_result"
    }
   ],
   "source": [
    "arr.round(2)"
   ]
  },
  {
   "cell_type": "code",
   "execution_count": 10,
   "metadata": {
    "collapsed": false
   },
   "outputs": [
    {
     "data": {
      "text/plain": [
       "<xarray.DataArray (y: 3, x: 2)>\n",
       "array([[ 1.5267829 , -0.65101496],\n",
       "       [ 0.49981238, -1.03530835],\n",
       "       [ 0.6417177 , -0.6216578 ]])\n",
       "Coordinates:\n",
       "  * x        (x) <U1 'a' 'b'\n",
       "  * y        (y) int32 10 20 30"
      ]
     },
     "execution_count": 10,
     "metadata": {},
     "output_type": "execute_result"
    }
   ],
   "source": [
    "arr.T"
   ]
  },
  {
   "cell_type": "markdown",
   "metadata": {},
   "source": [
    "## Missing values\n",
    "xarray objects borrow the ``isnull()``, ``notnull()``, ``count()``, ``dropna()`` and ``fillna()`` methods for working with missing data from pandas:"
   ]
  },
  {
   "cell_type": "code",
   "execution_count": 11,
   "metadata": {
    "collapsed": true
   },
   "outputs": [],
   "source": [
    "x = xr.DataArray([0, 1, np.nan, np.nan, 2], dims=['x'])"
   ]
  },
  {
   "cell_type": "code",
   "execution_count": 12,
   "metadata": {
    "collapsed": false
   },
   "outputs": [
    {
     "data": {
      "text/plain": [
       "<xarray.DataArray (x: 5)>\n",
       "array([False, False,  True,  True, False], dtype=bool)\n",
       "Coordinates:\n",
       "  * x        (x) int64 0 1 2 3 4"
      ]
     },
     "execution_count": 12,
     "metadata": {},
     "output_type": "execute_result"
    }
   ],
   "source": [
    "x.isnull()"
   ]
  },
  {
   "cell_type": "code",
   "execution_count": 13,
   "metadata": {
    "collapsed": false
   },
   "outputs": [
    {
     "data": {
      "text/plain": [
       "<xarray.DataArray (x: 5)>\n",
       "array([ True,  True, False, False,  True], dtype=bool)\n",
       "Coordinates:\n",
       "  * x        (x) int64 0 1 2 3 4"
      ]
     },
     "execution_count": 13,
     "metadata": {},
     "output_type": "execute_result"
    }
   ],
   "source": [
    "x.notnull()"
   ]
  },
  {
   "cell_type": "code",
   "execution_count": 14,
   "metadata": {
    "collapsed": false
   },
   "outputs": [
    {
     "data": {
      "text/plain": [
       "<xarray.DataArray ()>\n",
       "array(3)"
      ]
     },
     "execution_count": 14,
     "metadata": {},
     "output_type": "execute_result"
    }
   ],
   "source": [
    "x.count()"
   ]
  },
  {
   "cell_type": "code",
   "execution_count": 15,
   "metadata": {
    "collapsed": false
   },
   "outputs": [
    {
     "data": {
      "text/plain": [
       "<xarray.DataArray (x: 3)>\n",
       "array([ 0.,  1.,  2.])\n",
       "Coordinates:\n",
       "  * x        (x) int64 0 1 4"
      ]
     },
     "execution_count": 15,
     "metadata": {},
     "output_type": "execute_result"
    }
   ],
   "source": [
    "x.dropna(dim='x')"
   ]
  },
  {
   "cell_type": "code",
   "execution_count": 16,
   "metadata": {
    "collapsed": false
   },
   "outputs": [
    {
     "data": {
      "text/plain": [
       "<xarray.DataArray (x: 5)>\n",
       "array([ 0.,  1., -1., -1.,  2.])\n",
       "Coordinates:\n",
       "  * x        (x) int64 0 1 2 3 4"
      ]
     },
     "execution_count": 16,
     "metadata": {},
     "output_type": "execute_result"
    }
   ],
   "source": [
    "x.fillna(-1)"
   ]
  },
  {
   "cell_type": "markdown",
   "metadata": {},
   "source": [
    "Like pandas, xarray uses the float value ``np.nan`` (not-a-number) to represent missing values."
   ]
  },
  {
   "cell_type": "markdown",
   "metadata": {},
   "source": [
    "# Aggregation\n",
    "Aggregation methods have been updated to take a *dim* argument instead of *axis*. This allows for very intuitive syntax for aggregation methods that are applied along particular dimension(s):"
   ]
  },
  {
   "cell_type": "code",
   "execution_count": 17,
   "metadata": {
    "collapsed": false
   },
   "outputs": [
    {
     "data": {
      "text/plain": [
       "<xarray.DataArray (y: 3)>\n",
       "array([ 0.87576794, -0.53549597,  0.0200599 ])\n",
       "Coordinates:\n",
       "  * y        (y) int32 10 20 30"
      ]
     },
     "execution_count": 17,
     "metadata": {},
     "output_type": "execute_result"
    }
   ],
   "source": [
    "arr.sum(dim='x')"
   ]
  },
  {
   "cell_type": "code",
   "execution_count": 18,
   "metadata": {
    "collapsed": false
   },
   "outputs": [
    {
     "data": {
      "text/plain": [
       "<xarray.DataArray ()>\n",
       "array(0.8993685282752704)"
      ]
     },
     "execution_count": 18,
     "metadata": {},
     "output_type": "execute_result"
    }
   ],
   "source": [
    "arr.std(['x', 'y'])"
   ]
  },
  {
   "cell_type": "code",
   "execution_count": 19,
   "metadata": {
    "collapsed": false
   },
   "outputs": [
    {
     "data": {
      "text/plain": [
       "<xarray.DataArray ()>\n",
       "array(-1.0353083542944768)"
      ]
     },
     "execution_count": 19,
     "metadata": {},
     "output_type": "execute_result"
    }
   ],
   "source": [
    "arr.min()"
   ]
  },
  {
   "cell_type": "markdown",
   "metadata": {},
   "source": [
    "If you need to figure out the axis number for a dimension yourself (say, for wrapping code designed to work with numpy arrays), you can use the ``get_axis_num()`` method:"
   ]
  },
  {
   "cell_type": "code",
   "execution_count": 21,
   "metadata": {
    "collapsed": false
   },
   "outputs": [
    {
     "data": {
      "text/plain": [
       "1"
      ]
     },
     "execution_count": 21,
     "metadata": {},
     "output_type": "execute_result"
    }
   ],
   "source": [
    "arr.get_axis_num('y')"
   ]
  },
  {
   "cell_type": "markdown",
   "metadata": {},
   "source": [
    "These operations automatically skip missing values, like in pandas:"
   ]
  },
  {
   "cell_type": "code",
   "execution_count": 22,
   "metadata": {
    "collapsed": false
   },
   "outputs": [
    {
     "data": {
      "text/plain": [
       "<xarray.DataArray ()>\n",
       "array(2.0)"
      ]
     },
     "execution_count": 22,
     "metadata": {},
     "output_type": "execute_result"
    }
   ],
   "source": [
    "xr.DataArray([1, 2, np.nan, 3]).mean()"
   ]
  },
  {
   "cell_type": "markdown",
   "metadata": {},
   "source": [
    "If desired, you can disable this behavior by invoking the aggregation method with ``skipna=False``."
   ]
  },
  {
   "cell_type": "markdown",
   "metadata": {},
   "source": [
    "## Rolling window operations\n",
    "``DataArray`` objects include a ``rolling()`` method. This method supports rolling window aggregation:"
   ]
  },
  {
   "cell_type": "code",
   "execution_count": 23,
   "metadata": {
    "collapsed": true
   },
   "outputs": [],
   "source": [
    "arr = xr.DataArray(np.arange(0, 7.5, 0.5).reshape(3, 5), dims=('x', 'y'))"
   ]
  },
  {
   "cell_type": "code",
   "execution_count": 24,
   "metadata": {
    "collapsed": false
   },
   "outputs": [
    {
     "data": {
      "text/plain": [
       "<xarray.DataArray (x: 3, y: 5)>\n",
       "array([[ 0. ,  0.5,  1. ,  1.5,  2. ],\n",
       "       [ 2.5,  3. ,  3.5,  4. ,  4.5],\n",
       "       [ 5. ,  5.5,  6. ,  6.5,  7. ]])\n",
       "Coordinates:\n",
       "  * x        (x) int64 0 1 2\n",
       "  * y        (y) int64 0 1 2 3 4"
      ]
     },
     "execution_count": 24,
     "metadata": {},
     "output_type": "execute_result"
    }
   ],
   "source": [
    "arr"
   ]
  },
  {
   "cell_type": "markdown",
   "metadata": {},
   "source": [
    "``rolling()`` is applied along one dimension using the name of the dimension as a key (e.g. ``y``) and the window size as the value (e.g. ``3``). We get back a ``Rolling`` object:"
   ]
  },
  {
   "cell_type": "code",
   "execution_count": 25,
   "metadata": {
    "collapsed": false
   },
   "outputs": [
    {
     "data": {
      "text/plain": [
       "DataArrayRolling [window->3,center->False,dim->y]"
      ]
     },
     "execution_count": 25,
     "metadata": {},
     "output_type": "execute_result"
    }
   ],
   "source": [
    "arr.rolling(y=3)"
   ]
  },
  {
   "cell_type": "markdown",
   "metadata": {},
   "source": [
    "The label position and minimum number of periods in the rolling window are controlled by the ``center`` and ``min_periods`` arguments:"
   ]
  },
  {
   "cell_type": "code",
   "execution_count": 48,
   "metadata": {
    "collapsed": false
   },
   "outputs": [
    {
     "data": {
      "text/plain": [
       "DataArrayRolling [window->3,min_periods->2,center->True,dim->y]"
      ]
     },
     "execution_count": 48,
     "metadata": {},
     "output_type": "execute_result"
    }
   ],
   "source": [
    "arr.rolling(y=3, min_periods=2, center=True)"
   ]
  },
  {
   "cell_type": "code",
   "execution_count": 49,
   "metadata": {
    "collapsed": true
   },
   "outputs": [],
   "source": [
    "r = arr.rolling(y=3)"
   ]
  },
  {
   "cell_type": "code",
   "execution_count": 50,
   "metadata": {
    "collapsed": false
   },
   "outputs": [
    {
     "data": {
      "text/plain": [
       "<xarray.DataArray (x: 3, y: 5)>\n",
       "array([[ nan,  nan,  0.5,  1. ,  1.5],\n",
       "       [ nan,  nan,  3. ,  3.5,  4. ],\n",
       "       [ nan,  nan,  5.5,  6. ,  6.5]])\n",
       "Coordinates:\n",
       "  * x        (x) int64 0 1 2\n",
       "  * y        (y) int64 0 1 2 3 4"
      ]
     },
     "execution_count": 50,
     "metadata": {},
     "output_type": "execute_result"
    }
   ],
   "source": [
    "r.mean()"
   ]
  },
  {
   "cell_type": "code",
   "execution_count": 47,
   "metadata": {
    "collapsed": false
   },
   "outputs": [
    {
     "data": {
      "text/plain": [
       "<xarray.DataArray (y: 5, x: 3)>\n",
       "array([[ 0.25      ,  0.25      ,  0.25      ],\n",
       "       [ 0.40824829,  0.40824829,  0.40824829],\n",
       "       [ 0.40824829,  0.40824829,  0.40824829],\n",
       "       [ 0.40824829,  0.40824829,  0.40824829],\n",
       "       [        nan,         nan,         nan]])\n",
       "Coordinates:\n",
       "  * x        (x) int64 0 1 2\n",
       "  * y        (y) int64 0 1 2 3 4"
      ]
     },
     "execution_count": 47,
     "metadata": {},
     "output_type": "execute_result"
    }
   ],
   "source": [
    "r.reduce(np.std)"
   ]
  },
  {
   "cell_type": "markdown",
   "metadata": {},
   "source": [
    "Note that rolling window aggregations are much faster (both asymptotically and because they avoid a loop in Python) when **bottleneck** is installed. Otherwise, we fall back to a slower, pure Python implementation.\n",
    "\n",
    "Finally, we can manually iterate through ``Rolling`` objects:"
   ]
  },
  {
   "cell_type": "code",
   "execution_count": 36,
   "metadata": {
    "collapsed": false
   },
   "outputs": [
    {
     "name": "stdout",
     "output_type": "stream",
     "text": [
      "==============================\n",
      " <xarray.DataArray 'y' ()>\n",
      "array(0, dtype=int64)\n",
      "Coordinates:\n",
      "    y        int64 0 \n",
      "-------------------------\n",
      " <xarray.DataArray (x: 3, y: 1)>\n",
      "array([[ nan],\n",
      "       [ nan],\n",
      "       [ nan]])\n",
      "Coordinates:\n",
      "  * x        (x) int64 0 1 2\n",
      "  * y        (y) int64 0\n",
      "==============================\n",
      " <xarray.DataArray 'y' ()>\n",
      "array(1, dtype=int64)\n",
      "Coordinates:\n",
      "    y        int64 1 \n",
      "-------------------------\n",
      " <xarray.DataArray (x: 3, y: 2)>\n",
      "array([[ nan,  nan],\n",
      "       [ nan,  nan],\n",
      "       [ nan,  nan]])\n",
      "Coordinates:\n",
      "  * x        (x) int64 0 1 2\n",
      "  * y        (y) int64 0 1\n",
      "==============================\n",
      " <xarray.DataArray 'y' ()>\n",
      "array(2, dtype=int64)\n",
      "Coordinates:\n",
      "    y        int64 2 \n",
      "-------------------------\n",
      " <xarray.DataArray (x: 3, y: 3)>\n",
      "array([[ 0. ,  0.5,  1. ],\n",
      "       [ 2.5,  3. ,  3.5],\n",
      "       [ 5. ,  5.5,  6. ]])\n",
      "Coordinates:\n",
      "  * x        (x) int64 0 1 2\n",
      "  * y        (y) int64 0 1 2\n",
      "==============================\n",
      " <xarray.DataArray 'y' ()>\n",
      "array(3, dtype=int64)\n",
      "Coordinates:\n",
      "    y        int64 3 \n",
      "-------------------------\n",
      " <xarray.DataArray (x: 3, y: 3)>\n",
      "array([[ 0.5,  1. ,  1.5],\n",
      "       [ 3. ,  3.5,  4. ],\n",
      "       [ 5.5,  6. ,  6.5]])\n",
      "Coordinates:\n",
      "  * x        (x) int64 0 1 2\n",
      "  * y        (y) int64 1 2 3\n",
      "==============================\n",
      " <xarray.DataArray 'y' ()>\n",
      "array(4, dtype=int64)\n",
      "Coordinates:\n",
      "    y        int64 4 \n",
      "-------------------------\n",
      " <xarray.DataArray (x: 3, y: 3)>\n",
      "array([[ 1. ,  1.5,  2. ],\n",
      "       [ 3.5,  4. ,  4.5],\n",
      "       [ 6. ,  6.5,  7. ]])\n",
      "Coordinates:\n",
      "  * x        (x) int64 0 1 2\n",
      "  * y        (y) int64 2 3 4\n"
     ]
    }
   ],
   "source": [
    "for label, arr_window in r:\n",
    "    print('==============================\\n', label, '\\n-------------------------\\n', arr_window)"
   ]
  },
  {
   "cell_type": "markdown",
   "metadata": {},
   "source": [
    "## Broadcasting by dimension name\n",
    "``DataArray`` objects are automatically align themselves (“broadcasting” in the numpy parlance) by dimension name instead of axis order. With xarray, you do not need to transpose arrays or insert dimensions of length 1 to get array operations to work, as commonly done in numpy with ``np.reshape()`` or ``np.newaxis``.\n",
    "\n",
    "This is best illustrated by a few examples. Consider two one-dimensional arrays with different sizes aligned along different dimensions:"
   ]
  },
  {
   "cell_type": "code",
   "execution_count": 51,
   "metadata": {
    "collapsed": false
   },
   "outputs": [],
   "source": [
    "a = xr.DataArray([1, 2], [('x', ['a', 'b'])])"
   ]
  },
  {
   "cell_type": "code",
   "execution_count": 52,
   "metadata": {
    "collapsed": false
   },
   "outputs": [
    {
     "data": {
      "text/plain": [
       "<xarray.DataArray (x: 2)>\n",
       "array([1, 2])\n",
       "Coordinates:\n",
       "  * x        (x) <U1 'a' 'b'"
      ]
     },
     "execution_count": 52,
     "metadata": {},
     "output_type": "execute_result"
    }
   ],
   "source": [
    "a"
   ]
  },
  {
   "cell_type": "code",
   "execution_count": 53,
   "metadata": {
    "collapsed": false
   },
   "outputs": [],
   "source": [
    "b = xr.DataArray([-1, -2, -3], [('y', [10, 20, 30])])"
   ]
  },
  {
   "cell_type": "code",
   "execution_count": 54,
   "metadata": {
    "collapsed": false
   },
   "outputs": [
    {
     "data": {
      "text/plain": [
       "<xarray.DataArray (y: 3)>\n",
       "array([-1, -2, -3])\n",
       "Coordinates:\n",
       "  * y        (y) int32 10 20 30"
      ]
     },
     "execution_count": 54,
     "metadata": {},
     "output_type": "execute_result"
    }
   ],
   "source": [
    "b"
   ]
  },
  {
   "cell_type": "markdown",
   "metadata": {},
   "source": [
    "With xarray, we can apply binary mathematical operations to these arrays, and their dimensions are expanded automatically:"
   ]
  },
  {
   "cell_type": "code",
   "execution_count": 55,
   "metadata": {
    "collapsed": false
   },
   "outputs": [
    {
     "data": {
      "text/plain": [
       "<xarray.DataArray (x: 2, y: 3)>\n",
       "array([[-1, -2, -3],\n",
       "       [-2, -4, -6]])\n",
       "Coordinates:\n",
       "  * x        (x) <U1 'a' 'b'\n",
       "  * y        (y) int32 10 20 30"
      ]
     },
     "execution_count": 55,
     "metadata": {},
     "output_type": "execute_result"
    }
   ],
   "source": [
    "a * b"
   ]
  },
  {
   "cell_type": "markdown",
   "metadata": {},
   "source": [
    "Moreover, dimensions are always reordered to the order in which they first appeared:"
   ]
  },
  {
   "cell_type": "code",
   "execution_count": 56,
   "metadata": {
    "collapsed": true
   },
   "outputs": [],
   "source": [
    "c = xr.DataArray(np.arange(6).reshape(3, 2), [b['y'], a['x']])"
   ]
  },
  {
   "cell_type": "code",
   "execution_count": 57,
   "metadata": {
    "collapsed": false
   },
   "outputs": [
    {
     "data": {
      "text/plain": [
       "<xarray.DataArray (y: 3, x: 2)>\n",
       "array([[0, 1],\n",
       "       [2, 3],\n",
       "       [4, 5]])\n",
       "Coordinates:\n",
       "  * y        (y) int32 10 20 30\n",
       "  * x        (x) <U1 'a' 'b'"
      ]
     },
     "execution_count": 57,
     "metadata": {},
     "output_type": "execute_result"
    }
   ],
   "source": [
    "c"
   ]
  },
  {
   "cell_type": "code",
   "execution_count": 58,
   "metadata": {
    "collapsed": false
   },
   "outputs": [
    {
     "data": {
      "text/plain": [
       "<xarray.DataArray (x: 2, y: 3)>\n",
       "array([[1, 3, 5],\n",
       "       [3, 5, 7]])\n",
       "Coordinates:\n",
       "  * x        (x) <U1 'a' 'b'\n",
       "  * y        (y) int32 10 20 30"
      ]
     },
     "execution_count": 58,
     "metadata": {},
     "output_type": "execute_result"
    }
   ],
   "source": [
    "a + c"
   ]
  },
  {
   "cell_type": "markdown",
   "metadata": {},
   "source": [
    "This means, for example, that you always subtract an array from its transpose:"
   ]
  },
  {
   "cell_type": "code",
   "execution_count": 59,
   "metadata": {
    "collapsed": false
   },
   "outputs": [
    {
     "data": {
      "text/plain": [
       "<xarray.DataArray (y: 3, x: 2)>\n",
       "array([[0, 0],\n",
       "       [0, 0],\n",
       "       [0, 0]])\n",
       "Coordinates:\n",
       "  * y        (y) int32 10 20 30\n",
       "  * x        (x) <U1 'a' 'b'"
      ]
     },
     "execution_count": 59,
     "metadata": {},
     "output_type": "execute_result"
    }
   ],
   "source": [
    "c - c.T"
   ]
  },
  {
   "cell_type": "code",
   "execution_count": null,
   "metadata": {
    "collapsed": true
   },
   "outputs": [],
   "source": [
    ""
   ]
  }
 ],
 "metadata": {
  "kernelspec": {
   "display_name": "Python 3",
   "language": "python",
   "name": "python3"
  },
  "language_info": {
   "codemirror_mode": {
    "name": "ipython",
    "version": 3.0
   },
   "file_extension": ".py",
   "mimetype": "text/x-python",
   "name": "python",
   "nbconvert_exporter": "python",
   "pygments_lexer": "ipython3",
   "version": "3.5.1"
  }
 },
 "nbformat": 4,
 "nbformat_minor": 0
}